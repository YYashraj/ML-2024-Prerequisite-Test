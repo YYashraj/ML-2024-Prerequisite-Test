{
 "cells": [
  {
   "cell_type": "markdown",
   "metadata": {},
   "source": [
    "# Question 1\n",
    "\n",
    "Suppose we have a matrix A of shape (n,k) and another matrix B of shape (k,m). There matrix multiplication will yield a matrix C of shape (n,m). <br>\n",
    "Each element of C, say C<sub> i , j </sub>, will be calculated by the inner product of i<sup>th</sup>-row vector of A and the j<sup>th</sup>-column vector of B.\n",
    "<br><br>\n",
    "In this inner product, we have 2 vectors of size <i>k</i>. In dot product, all the corresponding elements of two same-sized vectors are multiplied and then added. So here, since the size of the vectors is <i>k</i>, the number of multiplication operations performed would be <i>k</i>, and the number of addition operations performed would be <i>k-1</i> (no. of addition performed ~ number of summands - 1).\n",
    "<br><br>\n",
    "The above calculation holds for each element of matrix C. Now, since the matrix C has <i>n</i>x<i>m</i> elements, the total number of operation will be given as:<br>\n",
    "<pre>\n",
    "    number of multiplication operations = m * n * k\n",
    "    number of addition operations = m * n * (k-1)\n",
    "</pre>"
   ]
  },
  {
   "cell_type": "markdown",
   "metadata": {},
   "source": [
    "# Question 2\n",
    "\n"
   ]
  },
  {
   "cell_type": "code",
   "execution_count": 4,
   "metadata": {},
   "outputs": [],
   "source": [
    "def matrix_multiplier(matrix1, matrix2):\n",
    "    m = len(matrix2[0])\n",
    "    n = len(matrix1)\n",
    "\n",
    "    output_matrix = [[0 for _ in range(m)] for _ in range(n)]\n",
    "    \n",
    "    for i in range(n):\n",
    "        for j in range(m):\n",
    "            for k in range(len(matrix2)):\n",
    "                output_matrix[i][j] += matrix1[i][k] * matrix2[k][j]\n",
    "    \n",
    "    return output_matrix"
   ]
  },
  {
   "cell_type": "markdown",
   "metadata": {},
   "source": [
    "This is our custom matrix multiplication code for list of lists. To compare its performance with numpy, we would need to test it against matrices of slightly big size."
   ]
  },
  {
   "cell_type": "code",
   "execution_count": 39,
   "metadata": {},
   "outputs": [
    {
     "name": "stdout",
     "output_type": "stream",
     "text": [
      "Timing using lists of lists: 0.20803117752075195\n",
      "Timing using NumPy: 0.0037920475006103516 \n",
      "\n",
      "Timing using lists of lists: 0.19942331314086914\n",
      "Timing using NumPy: 0.0010027885437011719 \n",
      "\n",
      "Timing using lists of lists: 0.18831968307495117\n",
      "Timing using NumPy: 0.002950429916381836 \n",
      "\n"
     ]
    }
   ],
   "source": [
    "import numpy as np\n",
    "import time\n",
    "\n",
    "def compare():\n",
    "    n, k, m = 100, 100, 100\n",
    "    matrix1 = np.random.rand(n, k)\n",
    "    matrix2 = np.random.rand(k, m)\n",
    "\n",
    "    matrix1_list = matrix1.tolist()\n",
    "    matrix2_list = matrix2.tolist()\n",
    "\n",
    "    # Timing using lists of lists\n",
    "    start_time_lists = time.time()\n",
    "    result_lists_large = matrix_multiplier(matrix1_list, matrix2_list)\n",
    "    end_time_lists = time.time()\n",
    "    time_lists = end_time_lists - start_time_lists\n",
    "\n",
    "    # Timing using NumPy\n",
    "    start_time_numpy = time.time()\n",
    "    result_numpy_large = np.dot(matrix1, matrix2)\n",
    "    end_time_numpy = time.time()\n",
    "    time_numpy = end_time_numpy - start_time_numpy\n",
    "\n",
    "    # Compare timings\n",
    "    print(\"Timing using lists of lists:\", time_lists)\n",
    "    print(\"Timing using NumPy:\", time_numpy, \"\\n\")\n",
    "\n",
    "for _ in range(3):\n",
    "    compare()"
   ]
  },
  {
   "cell_type": "markdown",
   "metadata": {},
   "source": [
    "From the above few tests is pretty clear that NumPy is significantly faster than the simple Python solution using lists of lists.<br><br>\n",
    "NumPy is optimized for numerical operations and takes advantage of low-level optimizations, making it more efficient for matrix multiplication. It involves vectorisation as well as can make use of parallel computing. Moreover, the NumPy package integrates C, C++, and Fortran codes in Python. These programming languages have faster execution compared to Python."
   ]
  },
  {
   "cell_type": "markdown",
   "metadata": {},
   "source": [
    "# Question 3\n",
    "\n",
    "__Method 1: Finding Highest Element__ <br>\n",
    "According to this algorithm, finding the <i>k<sup>th</sup></i> highest number requires <i>k</i> number of passes of the array. <br>\n",
    "Since for median we would need to find the middlemost number in the array, we need to find (<i>N</i> + 1)/2 highest number when N is odd, and ( <i>N</i>/2 and <i>N</i>/2+1 )/2 when N is even, where <i>N</i> is the length of the array.\n",
    "Since each pass requires O(<i>N</i>) time, the overall time complexity of this algorithm would be N * O(<i>N</i>) ~ **O(<i> N<sup> 2 </sup></i>)**\n",
    "\n",
    "\n",
    "__Method 2: Better Method - Sorting__ <br>\n",
    "A better solution than the above quadratic one would be simply to sort the array (or its copy) and then return the answer according to the parity of the size of the array. \n",
    "This algorithm has a better time complexity of **O(<i> N logN </i>)**"
   ]
  },
  {
   "cell_type": "code",
   "execution_count": 83,
   "metadata": {},
   "outputs": [
    {
     "name": "stdout",
     "output_type": "stream",
     "text": [
      "Median using Method 1: 516.0\n",
      "Time taken by Method 1: 0.010155677795410156\n",
      "\n",
      "Median using Method 2: 516.0\n",
      "Time taken by Method 2: 0.0009968280792236328\n",
      "\n",
      "Median using NumPy routine: 516.0\n",
      "Time taken by NumPy routine: 0.0009999275207519531\n"
     ]
    }
   ],
   "source": [
    "import time\n",
    "import numpy as np\n",
    "\n",
    "def median1(arr):\n",
    "    n = len(arr)\n",
    "    second_max_val, max_val = 0, 0\n",
    "\n",
    "    for _ in range(n//2 + 1):\n",
    "        second_max_val = max_val\n",
    "        max_val = max(arr)\n",
    "        arr.remove(max_val)\n",
    "    \n",
    "    if n % 2 == 1:\n",
    "        # print(max_val)\n",
    "        return max_val\n",
    "    else:\n",
    "        # print(max_val , second_max_val)\n",
    "        return (max_val + second_max_val) / 2\n",
    "    \n",
    "def median2(arr):\n",
    "    sorted_arr = sorted(arr)\n",
    "    n = len(sorted_arr)\n",
    "    # print(arr,sorted_arr)\n",
    "    \n",
    "    if n % 2 == 1:\n",
    "        # print(sorted_arr[n//2])\n",
    "        return sorted_arr[n//2]\n",
    "    else:\n",
    "        # print(sorted_arr[n//2 - 1] , sorted_arr[n//2])\n",
    "        return ( sorted_arr[n//2 - 1] + sorted_arr[n//2] ) / 2\n",
    "    \n",
    "numpy_array = np.random.randint(1, 1000, 1000)\n",
    "python_list = numpy_array.tolist()\n",
    "\n",
    "# print(\"NumPy array:\", numpy_array)\n",
    "# print(\"Python list:\", sorted(python_list))\n",
    "# print(\"Length of NumPy array:\", len(numpy_array))\n",
    "# print(\"Length of Python list:\", len(python_list))\n",
    "\n",
    "start_time_method2 = time.time()\n",
    "median_method2 = median2(python_list)\n",
    "end_time_method2 = time.time()\n",
    "time_method2 = end_time_method2 - start_time_method2\n",
    "\n",
    "start_time_method1 = time.time()\n",
    "median_method1 = median1(python_list)\n",
    "end_time_method1 = time.time()\n",
    "time_method1 = end_time_method1 - start_time_method1\n",
    "\n",
    "start_time_numpy = time.time()\n",
    "median_numpy = np.median(numpy_array)\n",
    "end_time_numpy = time.time()\n",
    "time_numpy = end_time_numpy - start_time_numpy\n",
    "\n",
    "print(\"Median using Method 1:\", median_method1)\n",
    "print(\"Time taken by Method 1:\", time_method1)\n",
    "\n",
    "print(\"\\nMedian using Method 2:\", median_method2)\n",
    "print(\"Time taken by Method 2:\", time_method2)\n",
    "\n",
    "print(\"\\nMedian using NumPy routine:\", median_numpy)\n",
    "print(\"Time taken by NumPy routine:\", time_numpy)"
   ]
  },
  {
   "cell_type": "markdown",
   "metadata": {},
   "source": [
    "As our initial guess, Method-1 is slowest of all the methods. But surprisingly, on testing few times, method-2 shows to be comparable to the numpy implementation in speed.\n",
    "\n",
    "# Question 4\n",
    "\n",
    "The given function is $ f(x,y) = x^2y + y^3sin(x) $\n",
    "\n",
    "Partial Derivative w.r.t x : $ 2xy + y^3cos(x) $ <br>\n",
    "Partial Derivative w.r.t y : $ x^2 + 3y^2sin(x) $\n",
    "\n",
    "# Question 5"
   ]
  },
  {
   "cell_type": "code",
   "execution_count": 45,
   "metadata": {},
   "outputs": [
    {
     "name": "stdout",
     "output_type": "stream",
     "text": [
      "\n",
      "Function value at (2.0, 3.0): 36.551029205322266\n",
      "Using JAX -\n",
      "Gradient with respect to x: 0.7640352249145508\n",
      "Gradient with respect to y: 28.551029205322266\n",
      "Using derived formula -\n",
      "Gradient with respect to x: 0.7640352249145508\n",
      "Gradient with respect to y: 28.551029205322266\n",
      "\n",
      "Function value at (4.0, 5.0): -14.600311279296875\n",
      "Using JAX -\n",
      "Gradient with respect to x: -41.70545196533203\n",
      "Gradient with respect to y: -40.760189056396484\n",
      "Using derived formula -\n",
      "Gradient with respect to x: -41.70545196533203\n",
      "Gradient with respect to y: -40.760189056396484\n",
      "\n",
      "Function value at (3.5, 6.5): -16.708847045898438\n",
      "Using JAX -\n",
      "Gradient with respect to x: -211.67440795898438\n",
      "Gradient with respect to y: -32.21177291870117\n",
      "Using derived formula -\n",
      "Gradient with respect to x: -211.67440795898438\n",
      "Gradient with respect to y: -32.21177291870117\n"
     ]
    }
   ],
   "source": [
    "import jax\n",
    "import jax.numpy as jnp\n",
    "\n",
    "def f(x, y):\n",
    "    return x**2 * y + y**3 * jnp.sin(x)\n",
    "\n",
    "# Use JAX to calculate the gradient\n",
    "grad_f = jax.grad(f, argnums=(0, 1))\n",
    "\n",
    "# custom gradient functions\n",
    "def df_dx(x,y):\n",
    "    return 2*x*y + y**3 * jnp.cos(x)\n",
    "\n",
    "def df_dy(x,y):\n",
    "    return x**2 + 3 * y**2 * jnp.sin(x)\n",
    "\n",
    "def compare(x_val,y_val):\n",
    "\n",
    "    gradient_x, gradient_y = grad_f(x_val, y_val)\n",
    "\n",
    "    print(f\"\\nFunction value at ({x_val}, {y_val}): {f(x_val, y_val)}\")\n",
    "\n",
    "    print(\"Using JAX -\")\n",
    "    print(f\"Gradient with respect to x: {gradient_x}\")\n",
    "    print(f\"Gradient with respect to y: {gradient_y}\")\n",
    "\n",
    "    print(\"Using derived formula -\")\n",
    "    print(f\"Gradient with respect to x: {df_dx(x_val,y_val)}\")\n",
    "    print(f\"Gradient with respect to y: {df_dy(x_val,y_val)}\")\n",
    "\n",
    "for x,y in [ (2.0,3.0) , (4.0,5.0), (3.5,6.5)]:\n",
    "    compare(x,y)"
   ]
  },
  {
   "cell_type": "markdown",
   "metadata": {},
   "source": [
    "# Question 6"
   ]
  },
  {
   "cell_type": "code",
   "execution_count": 48,
   "metadata": {},
   "outputs": [
    {
     "name": "stdout",
     "output_type": "stream",
     "text": [
      "Partial Derivative wrt x: 2*x*y + y**3*cos(x)\n",
      "Partial Derivative wrt y: x**2 + 3*y**2*sin(x)\n"
     ]
    }
   ],
   "source": [
    "from sympy import symbols, diff, sin\n",
    "\n",
    "x, y = symbols('x y')\n",
    "\n",
    "f = x**2 * y + y**3 * sin(x)\n",
    "\n",
    "# Calculate the partial derivatives\n",
    "df_dx = diff(f, x)\n",
    "df_dy = diff(f, y)\n",
    "\n",
    "print(\"Partial Derivative wrt x:\", df_dx)\n",
    "print(\"Partial Derivative wrt y:\", df_dy)"
   ]
  },
  {
   "cell_type": "markdown",
   "metadata": {},
   "source": [
    "# Question 7"
   ]
  },
  {
   "cell_type": "code",
   "execution_count": 57,
   "metadata": {},
   "outputs": [
    {
     "data": {
      "text/plain": [
       "{2022: {'Branch 1': {3: {'Name': 'Arjun',\n",
       "    'Marks': {'Maths': 100, 'English': 70, 'Science': 80}},\n",
       "   2: {'Name': 'Bheem', 'Marks': {'Maths': 60, 'English': 90, 'Science': 85}}},\n",
       "  'Branch 2': {1: {'Name': 'Yudhishthir',\n",
       "    'Marks': {'Maths': 95, 'English': 97, 'Science': 88}}}},\n",
       " 2023: {'Branch 1': {5: {'Name': 'Sahedev',\n",
       "    'Marks': {'Maths': 75, 'English': 79, 'Science': 68}}},\n",
       "  'Branch 2': {4: {'Name': 'Nakul',\n",
       "    'Marks': {'Maths': 77, 'English': 82, 'Science': 70}}}},\n",
       " 2024: {'Branch 1': {}, 'Branch 2': {}},\n",
       " 2025: {'Branch 1': {}, 'Branch 2': {}}}"
      ]
     },
     "execution_count": 57,
     "metadata": {},
     "output_type": "execute_result"
    }
   ],
   "source": [
    "## roll number is used as key in a branch\n",
    "students_marks = {\n",
    "    2022: {\n",
    "        'Branch 1': {\n",
    "            3: {\n",
    "                'Name': 'Arjun',\n",
    "                'Marks': {'Maths': 100, 'English': 70, \"Science\": 80}\n",
    "            },\n",
    "            2 : {\n",
    "                'Name': 'Bheem',\n",
    "                'Marks': {'Maths': 60, 'English': 90, \"Science\": 85}\n",
    "            }\n",
    "        },\n",
    "        'Branch 2': {\n",
    "            1 : {\n",
    "                'Name': 'Yudhishthir',\n",
    "                'Marks': {'Maths': 95, 'English': 97, \"Science\": 88}\n",
    "            }\n",
    "        }\n",
    "    },\n",
    "\n",
    "    2023: {\n",
    "        'Branch 1': {\n",
    "            5 : {\n",
    "                'Name': 'Sahedev',\n",
    "                'Marks': {'Maths': 75, 'English': 79, \"Science\": 68}\n",
    "            }\n",
    "        },\n",
    "        'Branch 2': {\n",
    "            4 : {\n",
    "                'Name': 'Nakul',\n",
    "                'Marks': {'Maths': 77, 'English': 82, \"Science\": 70}\n",
    "            }\n",
    "        }\n",
    "    },\n",
    "\n",
    "    ## similarly rest data can be filled\n",
    "    2024: {\n",
    "        'Branch 1': {},\n",
    "        'Branch 2': {}\n",
    "    },\n",
    "    2025: {\n",
    "        'Branch 1': {},\n",
    "        'Branch 2': {}\n",
    "    }\n",
    "}\n",
    "\n",
    "students_marks"
   ]
  },
  {
   "cell_type": "markdown",
   "metadata": {},
   "source": [
    "# Question 8"
   ]
  },
  {
   "cell_type": "code",
   "execution_count": 56,
   "metadata": {},
   "outputs": [
    {
     "name": "stdout",
     "output_type": "stream",
     "text": [
      "[<__main__.year object at 0x000002B0CDD4FEE0>, <__main__.year object at 0x000002B0CDD4FAC0>]\n",
      "<__main__.year object at 0x000002B0CDD4FEE0>\n",
      "[<__main__.branch object at 0x000002B0CDD4FA30>, <__main__.branch object at 0x000002B0CDD4E1D0>]\n",
      "[<__main__.student object at 0x000002B0CDBAA770>, <__main__.student object at 0x000002B0CDBAABF0>]\n",
      "Bheem\n",
      "[<__main__.subject object at 0x000002B0CDBA90C0>, <__main__.subject object at 0x000002B0CDBAA890>, <__main__.subject object at 0x000002B0CDBA9240>]\n",
      "80 \n",
      "\n",
      "{'batch_2021': <__main__.year object at 0x000002B0CDD09750>, 'batch_2022': <__main__.year object at 0x000002B0CDD0A170>}\n",
      "{1: <__main__.branch object at 0x000002B0CDD0B3A0>, 2: <__main__.branch object at 0x000002B0CDD090F0>}\n",
      "dict_items([(1, <__main__.branch object at 0x000002B0CDD0B3A0>), (2, <__main__.branch object at 0x000002B0CDD090F0>)])\n",
      "{2: <__main__.student object at 0x000002B0CDD4C940>, 3: <__main__.student object at 0x000002B0CDD0B5B0>}\n",
      "Bheem\n",
      "{'Maths': <__main__.subject object at 0x000002B0CDBA90C0>, 'English': <__main__.subject object at 0x000002B0CDBAA890>, 'Science': <__main__.subject object at 0x000002B0CDBA9240>}\n",
      "Maths\n",
      "80\n"
     ]
    }
   ],
   "source": [
    "class year:\n",
    "    def __init__(self, branches):\n",
    "        self.branches = branches\n",
    "\n",
    "class branch:\n",
    "    def __init__(self, students):\n",
    "        self.students = students\n",
    "\n",
    "class student:\n",
    "    def __init__(self, name, subjects):\n",
    "        self.name = name\n",
    "        self.subjects = subjects\n",
    "\n",
    "class subject:\n",
    "    def __init__(self,marks):\n",
    "        self.marks = marks\n",
    "\n",
    "\n",
    "Maths_21 = subject(80)\n",
    "English_21 = subject(75)\n",
    "Science_21 = subject(70)\n",
    "Maths_22 = subject(70)\n",
    "English_22 = subject(80)\n",
    "Science_22 = subject(65)\n",
    "\n",
    "_3 = student(\"Arjun\", [Maths_21, English_21, Science_21])\n",
    "_2 = student(\"Bheem\", [Maths_21, English_21, Science_21])\n",
    "_1 = student(\"Yudhi\", [Maths_21, English_21, Science_21])\n",
    "_4 = student(\"Nakul\", [Maths_22, English_22, Science_22])\n",
    "_5 = student(\"Sahedev\", [Maths_22, English_22, Science_22])\n",
    "\n",
    "branch1_21 = branch([_2,_3])\n",
    "branch2_21 = branch([_1])\n",
    "branch1_22 = branch([_5])\n",
    "branch2_22 = branch([_4])\n",
    "\n",
    "batch_2021 = year([branch1_21,branch2_21])\n",
    "batch_2022 = year([branch1_22,branch2_22])\n",
    "# batch_2023 = batch([branch1_23,branch2_23])\n",
    "# batch_2024 =\n",
    "\n",
    "database = [batch_2021, batch_2022]\n",
    "\n",
    "print(database)\n",
    "print(database[0])\n",
    "print(database[0].branches)\n",
    "print(database[0].branches[0].students)\n",
    "print(database[0].branches[0].students[0].name)\n",
    "print(database[0].branches[0].students[0].subjects)\n",
    "print(database[0].branches[0].students[0].subjects[0].marks, \"\\n\")\n",
    "\n",
    "\n",
    "## Better lookup would be using dictionaries\n",
    "marks21 = {\"Maths\":Maths_21, \"English\":English_21, \"Science\":Science_21}\n",
    "marks22 = {\"Maths\":Maths_22, \"English\":English_22, \"Science\":Science_22}\n",
    "\n",
    "# branch1_21 = branch({2:student(\"Bheem\", [Maths_21, English_21, Science_21]), 3:student(\"Arjun\", [Maths_21, English_21, Science_21])})\n",
    "branch1_21 = branch({2:student(\"Bheem\", marks21), 3:student(\"Arjun\", marks21)})\n",
    "branch2_21 = branch({1 : student(\"Yudhi\", marks21)})\n",
    "branch1_22 = branch({5 : student(\"Sahedev\", marks22)})\n",
    "branch2_22 = branch({4 : student(\"Nakul\", marks22)})\n",
    "\n",
    "database = {\n",
    "    \"batch_2021\": year({1 : branch1_21, 2: branch2_21}),\n",
    "    \"batch_2022\": year({1 : branch1_22, 2: branch2_22})\n",
    "}\n",
    "\n",
    "print(database)\n",
    "print(database['batch_2021'].branches)\n",
    "print(database['batch_2021'].branches.items())\n",
    "print(database['batch_2021'].branches[1].students)\n",
    "print(database['batch_2021'].branches[1].students[2].name)\n",
    "print(database['batch_2021'].branches[1].students[2].subjects)\n",
    "print(list(database['batch_2021'].branches[1].students[2].subjects.keys())[0])\n",
    "print(database['batch_2021'].branches[1].students[2].subjects[\"Maths\"].marks)"
   ]
  },
  {
   "cell_type": "markdown",
   "metadata": {},
   "source": [
    "# Question 9"
   ]
  },
  {
   "cell_type": "code",
   "execution_count": 58,
   "metadata": {},
   "outputs": [
    {
     "data": {
      "image/png": "[encoded data removed]",
      "text/plain": [
       "<Figure size 1500x800 with 7 Axes>"
      ]
     },
     "metadata": {},
     "output_type": "display_data"
    }
   ],
   "source": [
    "import matplotlib.pyplot as plt\n",
    "import numpy as np\n",
    "\n",
    "x_values = np.arange(0.5, 100.5, 0.5)\n",
    "\n",
    "def function1(x):\n",
    "    return x\n",
    "\n",
    "def function2(x):\n",
    "    return x**2\n",
    "\n",
    "def function3(x):\n",
    "    return x**3/100\n",
    "\n",
    "def function4(x):\n",
    "    return np.sin(x)\n",
    "\n",
    "def function5(x):\n",
    "    return np.sin(x)/x\n",
    "\n",
    "def function6(x):\n",
    "    return np.log(x)\n",
    "\n",
    "def function7(x):\n",
    "    return np.exp(x)\n",
    "\n",
    "functions = [function1, function2, function3, function4, function5, function6, function7]\n",
    "function_names = [\"x\" , \"x^2\", \"x^3/100\", \"sin(x)\", \"sin(x)/x\", \"log(x)\", \"e^x\"]\n",
    "\n",
    "fig, axes = plt.subplots(2, 4, figsize=(15, 8))\n",
    "fig.suptitle('Functions over the Domain')\n",
    "\n",
    "for i, ax in enumerate(axes.flatten()):\n",
    "    if i>6:\n",
    "        continue\n",
    "    y_values = functions[i](x_values)\n",
    "    ax.plot(x_values, y_values)\n",
    "    # ax.set_title(f'$y = {functions[i].__name__}$')\n",
    "    ax.set_title(f'$y = {function_names[i]}$')\n",
    "    ax.set_xlabel('x')\n",
    "    ax.set_ylabel('y')\n",
    "\n",
    "fig.delaxes(axes[1, 3])\n",
    "plt.tight_layout(rect=[0, 0, 1, 0.95])\n",
    "plt.show()"
   ]
  },
  {
   "cell_type": "markdown",
   "metadata": {},
   "source": [
    "# Question 10"
   ]
  },
  {
   "cell_type": "code",
   "execution_count": 60,
   "metadata": {},
   "outputs": [
    {
     "name": "stdout",
     "output_type": "stream",
     "text": [
      "           a         b         c         d         e\n",
      "0   1.758274  1.003284  1.290200  1.297515  1.353853\n",
      "1   1.136071  1.269244  1.781978  1.884840  1.326481\n",
      "2   1.851847  1.992624  1.394013  1.600225  1.126455\n",
      "3   1.759620  1.884781  1.569061  1.110940  1.873567\n",
      "4   1.791964  1.596386  1.410330  1.514752  1.847494\n",
      "5   1.829213  1.626958  1.825494  1.868840  1.139741\n",
      "6   1.952720  1.563712  1.253210  1.614602  1.465365\n",
      "7   1.743619  1.733816  1.027068  1.432033  1.700165\n",
      "8   1.851869  1.791213  1.403587  1.917153  1.793870\n",
      "9   1.762417  1.722187  1.751920  1.865899  1.269788\n",
      "10  1.622426  1.852195  1.854128  1.280526  1.182733\n",
      "11  1.401904  1.147611  1.541182  1.320442  1.471696\n",
      "12  1.482969  1.929972  1.878333  1.425073  1.153715\n",
      "13  1.165299  1.083107  1.502730  1.188341  1.296567\n",
      "14  1.997057  1.789441  1.389879  1.603974  1.833017\n",
      "15  1.788766  1.531072  1.323031  1.982566  1.346660\n",
      "16  1.484565  1.013508  1.824969  1.803552  1.304106\n",
      "17  1.894363  1.574888  1.397983  1.316777  1.634476\n",
      "18  1.240269  1.653181  1.020619  1.961218  1.229052\n",
      "19  1.229455  1.485427  1.588209  1.254554  1.864485\n",
      "\n",
      "Column with the highest standard deviation: b\n",
      "Row with the lowest mean: 13\n"
     ]
    }
   ],
   "source": [
    "import pandas as pd\n",
    "\n",
    "matrix_np = np.random.uniform(1,2, size = (20,5))\n",
    "# print(matrix_np)\n",
    "\n",
    "matrix_pd = pd.DataFrame(matrix_np, columns=['a', 'b', 'c', 'd', 'e'])\n",
    "print(matrix_pd)\n",
    "# print(matrix_pd.std())\n",
    "# print(matrix_pd.mean())\n",
    "# print(matrix_pd.mean(axis=1))\n",
    "\n",
    "max_std_column = matrix_pd.std().idxmax()\n",
    "min_mean_row = matrix_pd.mean(axis=1).idxmin()\n",
    "\n",
    "print(\"\\nColumn with the highest standard deviation:\", max_std_column)\n",
    "print(\"Row with the lowest mean:\", min_mean_row)"
   ]
  },
  {
   "cell_type": "markdown",
   "metadata": {},
   "source": [
    "# Question 11"
   ]
  },
  {
   "cell_type": "code",
   "execution_count": 61,
   "metadata": {},
   "outputs": [
    {
     "name": "stdout",
     "output_type": "stream",
     "text": [
      "           a         b         c         d         e         f    g\n",
      "0   1.758274  1.003284  1.290200  1.297515  1.353853  6.703125  LT8\n",
      "1   1.136071  1.269244  1.781978  1.884840  1.326481  7.398613  LT8\n",
      "2   1.851847  1.992624  1.394013  1.600225  1.126455  7.965164  LT8\n",
      "3   1.759620  1.884781  1.569061  1.110940  1.873567  8.197969  GT8\n",
      "4   1.791964  1.596386  1.410330  1.514752  1.847494  8.160926  GT8\n",
      "5   1.829213  1.626958  1.825494  1.868840  1.139741  8.290247  GT8\n",
      "6   1.952720  1.563712  1.253210  1.614602  1.465365  7.849610  LT8\n",
      "7   1.743619  1.733816  1.027068  1.432033  1.700165  7.636702  LT8\n",
      "8   1.851869  1.791213  1.403587  1.917153  1.793870  8.757692  GT8\n",
      "9   1.762417  1.722187  1.751920  1.865899  1.269788  8.372211  GT8\n",
      "10  1.622426  1.852195  1.854128  1.280526  1.182733  7.792008  LT8\n",
      "11  1.401904  1.147611  1.541182  1.320442  1.471696  6.882834  LT8\n",
      "12  1.482969  1.929972  1.878333  1.425073  1.153715  7.870063  LT8\n",
      "13  1.165299  1.083107  1.502730  1.188341  1.296567  6.236045  LT8\n",
      "14  1.997057  1.789441  1.389879  1.603974  1.833017  8.613368  GT8\n",
      "15  1.788766  1.531072  1.323031  1.982566  1.346660  7.972095  LT8\n",
      "16  1.484565  1.013508  1.824969  1.803552  1.304106  7.430699  LT8\n",
      "17  1.894363  1.574888  1.397983  1.316777  1.634476  7.818487  LT8\n",
      "18  1.240269  1.653181  1.020619  1.961218  1.229052  7.104339  LT8\n",
      "19  1.229455  1.485427  1.588209  1.254554  1.864485  7.422130  LT8\n",
      "\n",
      "Number of rows where value in column 'g' is 'LT8': 14\n",
      "Standard deviation of column 'f' for 'LT8' rows: 0.5287711890097561\n",
      "Standard deviation of column 'f' for 'GT8' rows: 0.23843262685399982\n"
     ]
    }
   ],
   "source": [
    "matrix_pd['f'] = matrix_pd[['a', 'b', 'c', 'd', 'e']].sum(axis=1)\n",
    "matrix_pd['g'] = np.where(matrix_pd['f'] < 8, 'LT8', 'GT8')\n",
    "\n",
    "num_rows_LT8 = matrix_pd[matrix_pd['g'] == 'LT8'].shape[0]\n",
    "std_LT8 = matrix_pd[matrix_pd['g'] == 'LT8']['f'].std()\n",
    "std_GT8 = matrix_pd[matrix_pd['g'] == 'GT8']['f'].std()\n",
    "\n",
    "print(matrix_pd)\n",
    "\n",
    "print(\"\\nNumber of rows where value in column 'g' is 'LT8':\", num_rows_LT8)\n",
    "print(\"Standard deviation of column 'f' for 'LT8' rows:\", std_LT8)\n",
    "print(\"Standard deviation of column 'f' for 'GT8' rows:\", std_GT8)"
   ]
  },
  {
   "cell_type": "markdown",
   "metadata": {},
   "source": [
    "# Question 12\n",
    "\n",
    "Broadcasting is a powerful feature in NumPy that allows for operations between arrays of different shapes and sizes. It automatically adjusts the dimensions of smaller arrays to perform element-wise operations with larger arrays."
   ]
  },
  {
   "cell_type": "code",
   "execution_count": 40,
   "metadata": {},
   "outputs": [
    {
     "name": "stdout",
     "output_type": "stream",
     "text": [
      "Scalar addition to a matrix:\n",
      " [[11 12 13]\n",
      " [14 15 16]\n",
      " [17 18 19]]\n"
     ]
    }
   ],
   "source": [
    "a = np.array([[1,2,3],\n",
    "              [4,5,6],\n",
    "              [7,8,9]])\n",
    "b = 10\n",
    "\n",
    "print(\"Scalar addition to a matrix:\\n\", a+b)"
   ]
  },
  {
   "cell_type": "code",
   "execution_count": 14,
   "metadata": {},
   "outputs": [
    {
     "name": "stdout",
     "output_type": "stream",
     "text": [
      "Vector Addition: \n",
      " [[11 22 33]\n",
      " [14 25 36]\n",
      " [17 28 39]]\n"
     ]
    }
   ],
   "source": [
    "a = np.array([[1,2,3],\n",
    "              [4,5,6],\n",
    "              [7,8,9]])\n",
    "\n",
    "b = np.array([10, 20, 30])\n",
    "\n",
    "'''\n",
    "print(\"\\nColumn Vector Addition: \\n\", a+b.T)\n",
    "\n",
    "print(\"\\nIdentifying issue -\")\n",
    "print(\"Shape of b\", b.size)\n",
    "print(\"Shape of b_transpose\", b.T.size)\n",
    "\n",
    "b = b.reshape(-1, 1)    # Reshape b to a column vector\n",
    "# print(b)\n",
    "print(\"Shape of b\", b.size)\n",
    "print(\"\\nColumn Vector Addition: \\n\", a+b.T)\n",
    "'''\n",
    "\n",
    "print(\"Vector Addition: \\n\", a+b)"
   ]
  },
  {
   "cell_type": "code",
   "execution_count": 18,
   "metadata": {},
   "outputs": [
    {
     "name": "stdout",
     "output_type": "stream",
     "text": [
      "2d-array generation from vectors: \n",
      " [[110 120 130]\n",
      " [210 220 230]\n",
      " [310 320 330]]\n"
     ]
    }
   ],
   "source": [
    "a = np.array([[10,20,30]])\n",
    "\n",
    "b = np.array([[100],\n",
    "              [200],\n",
    "              [300]])\n",
    "\n",
    "print(\"2d-array generation from vectors: \\n\", a+b)"
   ]
  },
  {
   "cell_type": "markdown",
   "metadata": {},
   "source": [
    "# Question 13"
   ]
  },
  {
   "cell_type": "code",
   "execution_count": 13,
   "metadata": {},
   "outputs": [
    {
     "name": "stdout",
     "output_type": "stream",
     "text": [
      "[57 46 34 90 58 51 31 31  3 13]\n",
      "arg_min of array:  8\n",
      "Verified\n"
     ]
    }
   ],
   "source": [
    "import numpy as np\n",
    "\n",
    "def arg_min(arr):\n",
    "    min = arr[0]\n",
    "    min_index = 0\n",
    "\n",
    "    # arr_fl = arr.flatten()\n",
    "    for i in range(1,len(arr)):\n",
    "        if arr[i]<min:\n",
    "            min = arr[i]\n",
    "            min_index = i\n",
    "\n",
    "    return min_index\n",
    "\n",
    "np_arr = np.random.randint(1,100,10)\n",
    "print(np_arr)\n",
    "\n",
    "min_arg = arg_min(np_arr)\n",
    "print(\"arg_min of array: \", min_arg)\n",
    "\n",
    "if ( min_arg == np.argmin(np_arr)):\n",
    "    print(\"Verified\")"
   ]
  }
 ],
 "metadata": {
  "kernelspec": {
   "display_name": "Python 3",
   "language": "python",
   "name": "python3"
  },
  "language_info": {
   "codemirror_mode": {
    "name": "ipython",
    "version": 3
   },
   "file_extension": ".py",
   "mimetype": "text/x-python",
   "name": "python",
   "nbconvert_exporter": "python",
   "pygments_lexer": "ipython3",
   "version": "3.10.5"
  }
 },
 "nbformat": 4,
 "nbformat_minor": 2
}
